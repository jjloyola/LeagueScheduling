{
 "cells": [
  {
   "cell_type": "code",
   "execution_count": 1,
   "metadata": {},
   "outputs": [],
   "source": [
    "'''\n",
    "This example demonstrate how to run a python model on DOcplexcloud solve\n",
    "service.\n",
    "\n",
    "@author: kong\n",
    "'''\n",
    "from docloud.job import JobClient\n",
    "from docplex.cp import config"
   ]
  },
  {
   "cell_type": "code",
   "execution_count": 2,
   "metadata": {},
   "outputs": [],
   "source": [
    "# --------------------------------------------------------------------------\n",
    "# Source file provided under Apache License, Version 2.0, January 2004,\n",
    "# http://www.apache.org/licenses/\n",
    "# (c) Copyright IBM Corp. 2015, 2017\n",
    "# --------------------------------------------------------------------------\n",
    "\n",
    "\n",
    "\n",
    "if __name__ == '__main__':\n",
    "    '''DOcplexcloud credentials can be specified with url and api_key in the\n",
    "    code block below.\n",
    "\n",
    "    Alternatively, Context.make_default_context() searches the PYTHONPATH for\n",
    "    the following files:\n",
    "\n",
    "        * cplex_config.py\n",
    "        * cplex_config_<hostname>.py\n",
    "        * docloud_config.py (must only contain context.solver.docloud configuration)\n",
    "\n",
    "    These files contain the credentials and other properties. For example,\n",
    "    something similar to::\n",
    "\n",
    "       context.solver.docloud.url = 'https://docloud.service.com/job_manager/rest/v1'\n",
    "       context.solver.docloud.key = 'example api_key'\n",
    "    '''\n",
    "    url = 'https://api-oaas.docloud.ibmcloud.com/job_manager/rest/v1'\n",
    "    key = 'api_e10c0ac7-d350-4017-ad7f-2aa28f974a29'\n",
    "\n",
    "#    if url is None or key is None:\n",
    "        # create a default context and use credentials defined in there.\n",
    "#        context = Context.make_default_context()\n",
    "#        url = context.solver.docloud.url\n",
    "#        key = context.solver.docloud.key\n",
    "\n",
    "    client = JobClient(url=url, api_key=key)\n",
    "    resp = client.execute(input=['NASL_CP.py',\n",
    "                                 'data/teams.csv',\n",
    "                                 'data/constraint_detail.csv',\n",
    "                                 'data/dates.csv',\n",
    "                                 'data/distances.json'],\n",
    "                          output='solution.json', \n",
    "                          waittime=30,\n",
    "                          load_solution=True,\n",
    "                          log='logs.txt')"
   ]
  },
  {
   "cell_type": "code",
   "execution_count": null,
   "metadata": {},
   "outputs": [],
   "source": []
  }
 ],
 "metadata": {
  "kernelspec": {
   "display_name": "Python 3",
   "language": "python",
   "name": "python3"
  },
  "language_info": {
   "codemirror_mode": {
    "name": "ipython",
    "version": 3
   },
   "file_extension": ".py",
   "mimetype": "text/x-python",
   "name": "python",
   "nbconvert_exporter": "python",
   "pygments_lexer": "ipython3",
   "version": "3.7.3"
  }
 },
 "nbformat": 4,
 "nbformat_minor": 2
}
