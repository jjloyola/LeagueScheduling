{
 "cells": [
  {
   "cell_type": "code",
   "execution_count": 1,
   "metadata": {},
   "outputs": [],
   "source": [
    "import pandas as pd\n",
    "import numpy as np\n",
    "import json\n",
    "from docplex.mp.model import Model\n",
    "from docplex.util.environment import get_environment"
   ]
  },
  {
   "cell_type": "code",
   "execution_count": 2,
   "metadata": {},
   "outputs": [],
   "source": [
    "path = ''\n",
    "while True:\n",
    "    try:\n",
    "        dfTeams = pd.read_csv(path+'teams.csv', sep=';')\n",
    "        #TEAMS = [i for i in dfTeams.index+1]\n",
    "        dfConstraints = pd.read_csv(path+'constraint_detail.csv',sep=';')\n",
    "        dfDates = pd.read_csv(path+'dates.csv', sep=';')\n",
    "        #ROUNDS = [j for j in dfDates.index+1]\n",
    "        #ROUNDS = [j for j in TEAMS[:-1]] #REMOVE\n",
    "        break\n",
    "    except IOError:\n",
    "        path = 'data/'\n",
    "    \n",
    "\n",
    "dfDistances = pd.DataFrame(data=0.0,\n",
    "                    index = dfTeams['Short Name'],\n",
    "                    columns = dfTeams['Short Name'])\n",
    "\n",
    "with open(path+'distances.json') as dist_file:  \n",
    "    data = json.load(dist_file)\n",
    "\n",
    "    for team1 in data['travel_distances']:\n",
    "        for team2 in team1['distances']:\n",
    "            if team1['short_name'] != team2['short_name']:\n",
    "                dfDistances[team1['short_name']][team2['short_name']] = team2['distance']\n",
    "\n",
    "#TEMP PARAMS\n",
    "n = 8\n",
    "TEAMS = range(1,n+1)\n",
    "nbRounds = n-1;\n",
    "ROUNDS = range(1,nbRounds+1)\n",
    "ROUNDS_Y =range(1,nbRounds)\n",
    "mid = nbRounds//2\n",
    "#UB = 2"
   ]
  },
  {
   "cell_type": "markdown",
   "metadata": {},
   "source": [
    "Treat df_constraints so it's easier to obtain data"
   ]
  },
  {
   "cell_type": "code",
   "execution_count": 3,
   "metadata": {},
   "outputs": [],
   "source": [
    "#Replace team name with team number\n",
    "for index, row in dfTeams.iterrows():\n",
    "    dfConstraints['teama_id'] = dfConstraints['teama_id'].str.replace(row['Team'],row['Short Name'])\n",
    "    dfConstraints['teamb_id'] = dfConstraints['teamb_id'].str.replace(row['Team'],row['Short Name'])"
   ]
  },
  {
   "cell_type": "code",
   "execution_count": 4,
   "metadata": {},
   "outputs": [],
   "source": [
    "matchesPerTeam = 16 #Teams must play a total of 16 matches in the Fall\n",
    "UBBreaks = 2 #when a team plays two home or two consecutive rounds it is said to have a break"
   ]
  },
  {
   "cell_type": "markdown",
   "metadata": {},
   "source": [
    "## Variables of the model\n",
    "\n",
    "Three variables are considered:\n",
    "\n"
   ]
  },
  {
   "cell_type": "code",
   "execution_count": 5,
   "metadata": {},
   "outputs": [],
   "source": [
    "mdl = Model('NASL_Scheduling')\n",
    "\n",
    "# Variables of the model\n",
    "#x={}\n",
    "home={}\n",
    "away={}\n",
    "#b={}\n",
    "\n",
    "for t in TEAMS:\n",
    "    for r in ROUNDS_Y:\n",
    "        home[(t,r)] = mdl.binary_var(name='h_{}_{}'.format(t,r)) #1 if team t plays home in round r and r+1\n",
    "        away[(t,r)] = mdl.binary_var(name='a_{}_{}'.format(t,r)) #1 if team t plays away in round r and r+1"
   ]
  },
  {
   "cell_type": "code",
   "execution_count": 6,
   "metadata": {},
   "outputs": [],
   "source": [
    "plays = {}\n",
    "for r in ROUNDS:\n",
    "    for t1 in TEAMS:\n",
    "        for t2 in TEAMS:\n",
    "            plays[(t1, t2, r)] = mdl.binary_var(name=\"x_{}_{}_{}\".format(t1, t2, r))"
   ]
  },
  {
   "cell_type": "markdown",
   "metadata": {},
   "source": [
    "### <font color=green> Objective Function </font>\n",
    "$Min \\; Z= \\; \\displaystyle\\sum_{t \\in T}^{}\\sum_{r \\in R-1}^{} h_{tr} + a_{tr}$"
   ]
  },
  {
   "cell_type": "code",
   "execution_count": 7,
   "metadata": {},
   "outputs": [],
   "source": [
    "sm = []\n",
    "for t in TEAMS:\n",
    "    for r in ROUNDS_Y:\n",
    "        sm.append(home[(t,r)]+away[(t,r)])\n",
    "                    \n",
    "mdl.minimize(mdl.sum(sm))"
   ]
  },
  {
   "cell_type": "markdown",
   "metadata": {},
   "source": [
    "(1) Make sure that each team i plays every other team j once in the period of 7\n",
    "rounds.\n",
    "\n",
    "(2) In every round r and for every team i, team j plays either home or away.\n",
    "\n",
    "(3) No team i play itself in any round r.\n",
    "\n",
    "(4) – (5) Each team plays at least 7 and maximum 8 matches at home.\n",
    "\n",
    "(6) Every team has a maximum of two consecutive home matches.\n",
    "\n",
    "(7) Every team has a maximum of two consecutive away matches.\n",
    "\n",
    "(8) Making the h variable dependent on the x variable.\n",
    "\n",
    "(9) Making the a variable dependent on the x variable."
   ]
  },
  {
   "cell_type": "code",
   "execution_count": 8,
   "metadata": {},
   "outputs": [],
   "source": [
    "for t1 in TEAMS:\n",
    "    for t2 in TEAMS:\n",
    "        if t1!=t2:\n",
    "            mdl.add_constraint(mdl.sum([plays[(t1,t2,r)] + plays[(t2,t1,r)] for r in ROUNDS]) == 1) #(1)\n",
    "\n",
    "for t1 in TEAMS:\n",
    "    for r in ROUNDS:\n",
    "        sumAux = []\n",
    "        for t2 in TEAMS:\n",
    "            if t1!=t2:\n",
    "                sumAux.append(plays[(t1,t2,r)] + plays[(t2,t1,r)])\n",
    "        mdl.add_constraint(mdl.sum(sumAux) == 1) #(2)\n",
    "\n",
    "for t in TEAMS:\n",
    "    for r in ROUNDS:\n",
    "        mdl.add_constraint(plays[(t,t,r)]==0)"
   ]
  },
  {
   "cell_type": "code",
   "execution_count": 9,
   "metadata": {},
   "outputs": [],
   "source": [
    "for t in TEAMS:\n",
    "    mdl.add_constraint(mdl.sum([plays[(t,t2,r)] for t2 in TEAMS for r in ROUNDS if t!=t2]) <= mid+1)#(4)\n",
    "\n",
    "for t in TEAMS:\n",
    "    mdl.add_constraint(mdl.sum([plays[(t,t2,r)] for t2 in TEAMS for r in ROUNDS if t!=t2]) >= mid)#(5)"
   ]
  },
  {
   "cell_type": "code",
   "execution_count": 10,
   "metadata": {},
   "outputs": [],
   "source": [
    "for t in TEAMS:\n",
    "    mdl.add_constraint(mdl.sum([home[(t,r)] for r in ROUNDS_Y]) <= UBBreaks-1) #(6)\n",
    "\n",
    "for t in TEAMS:\n",
    "    mdl.add_constraint(mdl.sum([away[(t,r)] for r in ROUNDS_Y]) <= UBBreaks-1) #(7)"
   ]
  },
  {
   "cell_type": "code",
   "execution_count": 11,
   "metadata": {},
   "outputs": [],
   "source": [
    "for t1 in TEAMS:\n",
    "    for r in ROUNDS_Y:\n",
    "        mdl.add_constraint(mdl.sum([plays[(t2,t1,r)]+plays[(t2,t1,r+1)] for t2 in TEAMS if t1!=t2]) \n",
    "                           <= 1+home[(t1,r)]) #(8)\n",
    "\n",
    "for t1 in TEAMS:\n",
    "    for r in ROUNDS_Y:\n",
    "        mdl.add_constraint(mdl.sum([plays[(t2,t1,r)]+plays[(t2,t1,r+1)] for t2 in TEAMS if t1!=t2]) \n",
    "                           <= 1+away[(t1,r)]) #(9)"
   ]
  },
  {
   "cell_type": "code",
   "execution_count": 12,
   "metadata": {},
   "outputs": [],
   "source": [
    "#mdl.export_as_lp(basename=\"MP_Model\", path=\"data/\")"
   ]
  },
  {
   "cell_type": "code",
   "execution_count": null,
   "metadata": {},
   "outputs": [],
   "source": []
  },
  {
   "cell_type": "code",
   "execution_count": null,
   "metadata": {},
   "outputs": [],
   "source": []
  },
  {
   "cell_type": "code",
   "execution_count": null,
   "metadata": {},
   "outputs": [],
   "source": [
    "\n",
    "\n"
   ]
  },
  {
   "cell_type": "raw",
   "metadata": {},
   "source": []
  },
  {
   "cell_type": "code",
   "execution_count": 13,
   "metadata": {},
   "outputs": [],
   "source": [
    "def mp_solution_to_df(solution):\n",
    "    solution_df = pd.DataFrame(columns=['name', 'value'])\n",
    "\n",
    "    for index, dvar in enumerate(solution.iter_variables()):\n",
    "        solution_df.loc[index, 'name'] = dvar.to_string()\n",
    "        solution_df.loc[index, 'value'] = dvar.solution_value\n",
    "\n",
    "    return solution_df"
   ]
  },
  {
   "cell_type": "code",
   "execution_count": 16,
   "metadata": {},
   "outputs": [
    {
     "name": "stdout",
     "output_type": "stream",
     "text": [
      "Use Cloud Solver\n"
     ]
    }
   ],
   "source": [
    "#mdl.parameters.timelimit=10\n",
    "\n",
    "try:\n",
    "    if not mdl.solve():\n",
    "        print('*** Problem has no solution')\n",
    "    else:\n",
    "        print('* model solved as function:')\n",
    "        # Save the CPLEX solution as 'solution.csv' program output\n",
    "        solution_df = mp_solution_to_df(mdl.solution)\n",
    "        #get_environment().store_solution(solution_df)\n",
    "        print(\"\\n\\n---------------------SOLUTION--------------------\\n\\n\")\n",
    "        mdl.print_solution()\n",
    "except Exception:\n",
    "    print(\"Use Cloud Solver\")\n",
    "    mdl.export_as_lp(basename=\"MP_Model\", path=\"data/\")"
   ]
  },
  {
   "cell_type": "code",
   "execution_count": null,
   "metadata": {},
   "outputs": [],
   "source": []
  },
  {
   "cell_type": "code",
   "execution_count": null,
   "metadata": {},
   "outputs": [],
   "source": []
  }
 ],
 "metadata": {
  "kernelspec": {
   "display_name": "Python 3",
   "language": "python",
   "name": "python3"
  },
  "language_info": {
   "codemirror_mode": {
    "name": "ipython",
    "version": 3
   },
   "file_extension": ".py",
   "mimetype": "text/x-python",
   "name": "python",
   "nbconvert_exporter": "python",
   "pygments_lexer": "ipython3",
   "version": "3.7.3"
  }
 },
 "nbformat": 4,
 "nbformat_minor": 2
}
