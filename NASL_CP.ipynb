{
 "cells": [
  {
   "cell_type": "code",
   "execution_count": 1,
   "metadata": {},
   "outputs": [],
   "source": [
    "import docplex.cp\n",
    "import pandas as pd\n",
    "import numpy as np\n",
    "import json\n",
    "from docplex.util.environment import get_environment"
   ]
  },
  {
   "cell_type": "code",
   "execution_count": 2,
   "metadata": {},
   "outputs": [],
   "source": [
    "path = ''\n",
    "while True:\n",
    "    try:\n",
    "        dfTeams = pd.read_csv(path+'teams.csv', sep=';')\n",
    "        TEAMS = [i for i in dfTeams.index+1]\n",
    "        dfConstraints = pd.read_csv(path+'constraint_detail.csv',sep=';')\n",
    "        dfDates = pd.read_csv(path+'dates.csv', sep=';')\n",
    "        ROUNDS = [j for j in dfDates.index+1 if j < 15]\n",
    "        break\n",
    "    except IOError:\n",
    "        path = 'data/'\n",
    "    \n",
    "\n",
    "dfDistances = pd.DataFrame(data=0.0,\n",
    "                    index = dfTeams['Short Name'],\n",
    "                    columns = dfTeams['Short Name'])\n",
    "\n",
    "with open(path+'distances.json') as dist_file:  \n",
    "    data = json.load(dist_file)\n",
    "\n",
    "    for team1 in data['travel_distances']:\n",
    "        for team2 in team1['distances']:\n",
    "            if team1['short_name'] != team2['short_name']:\n",
    "                dfDistances[team1['short_name']][team2['short_name']] = team2['distance']"
   ]
  },
  {
   "cell_type": "markdown",
   "metadata": {},
   "source": [
    "Treat df_constraints so it's easier to obtain data"
   ]
  },
  {
   "cell_type": "code",
   "execution_count": 3,
   "metadata": {},
   "outputs": [],
   "source": [
    "#Replace team name with team number\n",
    "for index, row in dfTeams.iterrows():\n",
    "    dfConstraints['teama_id'] = dfConstraints['teama_id'].str.replace(row['Team'],row['Short Name'])\n",
    "    dfConstraints['teamb_id'] = dfConstraints['teamb_id'].str.replace(row['Team'],row['Short Name'])"
   ]
  },
  {
   "cell_type": "code",
   "execution_count": 4,
   "metadata": {},
   "outputs": [],
   "source": [
    "matchesPerTeam = 16 #Teams must play a total of 16 matches in the Fall\n",
    "UBBreaks = 2 #when a team plays two home or two consecutive rounds it is said to have a break"
   ]
  },
  {
   "cell_type": "markdown",
   "metadata": {},
   "source": [
    "## Variables of the model\n",
    "\n",
    "Three variables are considered:\n",
    "\n"
   ]
  },
  {
   "cell_type": "code",
   "execution_count": 5,
   "metadata": {},
   "outputs": [],
   "source": [
    "#from docplex.mp.model import Model\n",
    "#mdl=Model('NASLS')\n",
    "\n",
    "import docplex.cp\n",
    "from docplex.cp.model import *\n",
    "mdl = CpoModel(name=\"NASL_Scheduling\")\n",
    "\n",
    "# Variables of the model\n",
    "x={}\n",
    "home={}\n",
    "away={}\n",
    "b={}\n",
    "\n",
    "for t in TEAMS:\n",
    "    for r in ROUNDS:\n",
    "        x[(t,r)] = mdl.integer_var(1, len(TEAMS),name=\"x_{}_{}\".format(t,r)) #the opponent team of i in round r \n",
    "        home[(t,r)] = mdl.binary_var(name='h_{}_{}'.format(t,r)) #1 if team t plays home in round r\n",
    "        away[(t,r)] = mdl.binary_var(name='a_{}_{}'.format(t,r)) #1 if team t plays away in round r\n",
    "        b[(t,r)] = mdl.binary_var(name='b_{}_{}'.format(t,r)) #1 if team t plays home/away in BOTH round r and r+1"
   ]
  },
  {
   "cell_type": "markdown",
   "metadata": {},
   "source": [
    "##### <font color=green> Objective Function </font>\n",
    "$Min \\; Z= \\; \\displaystyle\\sum_{t\\;\\in\\;T}^{}\\sum_{r\\;\\in\\;R}^{} b_{tr}$"
   ]
  },
  {
   "cell_type": "code",
   "execution_count": 6,
   "metadata": {},
   "outputs": [],
   "source": [
    "sm = []\n",
    "for t in TEAMS:\n",
    "    for r in ROUNDS:\n",
    "        sm.append(b[(t,r)])\n",
    "                    \n",
    "mdl.add(mdl.minimize(mdl.sum(sm)))"
   ]
  },
  {
   "cell_type": "code",
   "execution_count": 7,
   "metadata": {},
   "outputs": [],
   "source": [
    "# HARD CONSTRAINTS\n",
    "\n",
    "for t in TEAMS:\n",
    "    for r in ROUNDS[:-1]:\n",
    "        #If team t plays home in r and r+1, b takes the value of 1\n",
    "        mdl.add(home[(t,r)] + home[(t,r+1)] <= 1+b[(t,r)]) #(1)\n",
    "\n",
    "for t in TEAMS:\n",
    "    for r in ROUNDS[:-1]:\n",
    "        #If team t plays away in r and r+1, b takes the value of 1\n",
    "        mdl.add(away[(t,r)] + away[(t,r+1)] <= 1+b[(t,r)]) #(2)\n",
    "\n",
    "for t in TEAMS:\n",
    "    for r in ROUNDS:\n",
    "        #Team t plays home OR away in round r\n",
    "        mdl.add(home[(t,r)] != away[(t,r)]) #(3)\n",
    "        \n",
    "for rr in range(1,len(ROUNDS)-UBBreaks+1):\n",
    "    mdl.add( mdl.sum([home[(t,r)] for t in TEAMS for r in range(rr,rr+UBBreaks+1) ]) <= UBBreaks ) #(4)\n",
    "\n",
    "for rr in range(1,len(ROUNDS)-UBBreaks+1):\n",
    "    mdl.add( mdl.sum([home[(t,r)] for t in TEAMS for r in range(rr,rr+UBBreaks+1) ]) >= 1 ) #(5)\n",
    "\n",
    "for t1 in TEAMS:\n",
    "    for t2 in TEAMS:\n",
    "        if(t1!=t2):\n",
    "            for r in ROUNDS[:-1]:\n",
    "                mdl.add(mdl.if_then(x[(t1,r)]==t2, x[(t2,r)]==t1)) #(6)\n",
    "\n",
    "for t1 in TEAMS:\n",
    "    for t2 in TEAMS:\n",
    "        if(t1<t2):\n",
    "            for r in ROUNDS[:-1]:\n",
    "                mdl.add(mdl.if_then(x[(t1,r)]==t2, home[(t1,r)]+home[(t2,r)] == 1)) #(12)\n",
    "\n",
    "\n",
    "mdl.add(x[(t,r)] != t for t in TEAMS for r in ROUNDS) #(8)\n",
    "\n",
    "\n",
    "#Not Necessary for the assignment\n",
    "\n",
    "for t in TEAMS:\n",
    "    for r in ROUNDS:\n",
    "        mdl.add(x[(t,r)] > 0) #(7)\n",
    "        \n",
    "for r in ROUNDS:\n",
    "    mdl.add(mdl.sum([home[(t,r)] for t in TEAMS]) == int(len(TEAMS)/2)) #(11)\n",
    "\n",
    "for t in TEAMS:\n",
    "    for r1 in ROUNDS:\n",
    "        for r2 in ROUNDS:\n",
    "            if(r1<r2):\n",
    "                mdl.add(mdl.if_then(x[(t,r1)]==x[(t,r2)], home[(t,r1)]+home[(t,r2)]==1)) #(13)\n",
    "\n"
   ]
  },
  {
   "cell_type": "raw",
   "metadata": {},
   "source": [
    "#Constraints (9) and (10)\n",
    "for t in TEAMS:\n",
    "    QS = int(len(ROUNDS)/2)\n",
    "    period1 = [x[(t,r)] for r in ROUNDS[:QS+1]]\n",
    "    period2 = [x[(t,r)] for r in ROUNDS[QS+1:]]\n",
    "    mdl.all_diff(period1)\n",
    "    mdl.all_diff(period2)"
   ]
  },
  {
   "cell_type": "code",
   "execution_count": 8,
   "metadata": {},
   "outputs": [],
   "source": [
    "def mp_solution_to_df(solution):\n",
    "    solution_df = pandas.DataFrame(columns=['name', 'value'])\n",
    "\n",
    "    for index, dvar in enumerate(solution.iter_variables()):\n",
    "        solution_df.loc[index, 'name'] = dvar.to_string()\n",
    "        solution_df.loc[index, 'value'] = dvar.solution_value\n",
    "\n",
    "    return solution_df"
   ]
  },
  {
   "cell_type": "code",
   "execution_count": 9,
   "metadata": {},
   "outputs": [
    {
     "name": "stdout",
     "output_type": "stream",
     "text": [
      "Use Cloud Solver\n"
     ]
    }
   ],
   "source": [
    "from docplex.cp.solver import solver_local\n",
    "\n",
    "try:\n",
    "    if not mdl.solve():\n",
    "        print('*** Problem has no solution')\n",
    "    else:\n",
    "        print('* model solved as function:')\n",
    "        mdl.print_solution()\n",
    "        # Save the CPLEX solution as 'solution.csv' program output\n",
    "        solution_df = mp_solution_to_df(mdl.solution)\n",
    "        outputs['solution'] = mdl.solution_df\n",
    "except solver_local.LocalSolverException:\n",
    "    print(\"Use Cloud Solver\")\n",
    "    mdl.export_model(\"data/Model.txt\")"
   ]
  },
  {
   "cell_type": "code",
   "execution_count": null,
   "metadata": {},
   "outputs": [],
   "source": []
  },
  {
   "cell_type": "code",
   "execution_count": null,
   "metadata": {},
   "outputs": [],
   "source": []
  },
  {
   "cell_type": "code",
   "execution_count": null,
   "metadata": {},
   "outputs": [],
   "source": []
  }
 ],
 "metadata": {
  "kernelspec": {
   "display_name": "Python 3",
   "language": "python",
   "name": "python3"
  },
  "language_info": {
   "codemirror_mode": {
    "name": "ipython",
    "version": 3
   },
   "file_extension": ".py",
   "mimetype": "text/x-python",
   "name": "python",
   "nbconvert_exporter": "python",
   "pygments_lexer": "ipython3",
   "version": "3.7.3"
  }
 },
 "nbformat": 4,
 "nbformat_minor": 2
}
